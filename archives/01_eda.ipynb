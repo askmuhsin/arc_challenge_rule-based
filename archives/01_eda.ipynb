{
 "cells": [
  {
   "cell_type": "code",
   "execution_count": 1,
   "metadata": {
    "ExecuteTime": {
     "end_time": "2020-03-08T09:36:56.576867Z",
     "start_time": "2020-03-08T09:36:55.208633Z"
    }
   },
   "outputs": [],
   "source": [
    "import numpy as np\n",
    "import pandas as pd\n",
    "from copy import copy, deepcopy\n",
    "\n",
    "import os\n",
    "import json\n",
    "from pathlib import Path\n",
    "\n",
    "import matplotlib.pyplot as plt\n",
    "from matplotlib import colors\n",
    "import numpy as np"
   ]
  },
  {
   "cell_type": "code",
   "execution_count": 2,
   "metadata": {
    "ExecuteTime": {
     "end_time": "2020-03-08T09:36:57.103523Z",
     "start_time": "2020-03-08T09:36:56.579047Z"
    }
   },
   "outputs": [],
   "source": [
    "from ds_toolkit.file_io.json_utils import read_json"
   ]
  },
  {
   "cell_type": "code",
   "execution_count": 3,
   "metadata": {
    "ExecuteTime": {
     "end_time": "2020-03-08T09:36:57.876920Z",
     "start_time": "2020-03-08T09:36:57.106076Z"
    },
    "code_folding": [
     0,
     35
    ],
    "run_control": {
     "marked": false
    }
   },
   "outputs": [],
   "source": [
    "def task_summary(task):\n",
    "    print(\"len of train task : \", len(task['train']))\n",
    "    print(\"len of test task : \", len(task['test']))\n",
    "    \n",
    "    same_io_shape = True\n",
    "    shapes = []\n",
    "    for t in task['train']:\n",
    "        input_shape, output_shape = (len(t['input']), len(t['input'][0])), (len(t['output']), len(t['output'][0]))\n",
    "        shapes.append((input_shape, output_shape))\n",
    "        if input_shape != output_shape:\n",
    "            same_io_shape = False\n",
    "    \n",
    "    print(\"same io shape : \", same_io_shape)\n",
    "    \n",
    "\n",
    "def plot_grid_util(ax, grid):\n",
    "    cmap = colors.ListedColormap([\n",
    "        '#000000', '#0074D9','#FF4136','#2ECC40','#FFDC00',\n",
    "        '#AAAAAA', '#F012BE', '#FF851B', '#7FDBFF', '#870C25'\n",
    "    ])\n",
    "    norm = colors.Normalize(vmin=0, vmax=9)\n",
    "    ax.imshow(grid, cmap=cmap, norm=norm)\n",
    "    ax.grid(True, which='both',color='lightgrey', linewidth=0.5)   \n",
    "\n",
    "    ax.set_yticks([x-0.5 for x in range(1+len(grid))])\n",
    "    ax.set_xticks([x-0.5 for x in range(1+len(grid[0]))])     \n",
    "    ax.set_xticklabels([])\n",
    "    ax.set_yticklabels([])\n",
    "    \n",
    "    \n",
    "def plot_grid(grid):\n",
    "    fig, ax = plt.subplots()\n",
    "    plot_grid_util(ax, grid)\n",
    "\n",
    "\n",
    "def plot_pair(i, o):\n",
    "    fig, (ax, ax2) = plt.subplots(1,2)\n",
    "    plot_grid_util(ax, i)\n",
    "    plot_grid_util(ax2, o)"
   ]
  },
  {
   "cell_type": "code",
   "execution_count": 4,
   "metadata": {
    "ExecuteTime": {
     "end_time": "2020-03-08T09:36:59.101792Z",
     "start_time": "2020-03-08T09:36:57.880191Z"
    },
    "code_folding": [
     32,
     53,
     56,
     70,
     73
    ],
    "run_control": {
     "marked": true
    }
   },
   "outputs": [],
   "source": [
    "class Grid:\n",
    "    def __init__(self, grid):\n",
    "        assert isinstance(grid, list), \"grid should be list of list\"\n",
    "        assert isinstance(grid[0], list), \"grid should be list of list\"\n",
    "        \n",
    "        self.grid = grid\n",
    "        self.row_len = len(grid)\n",
    "        self.col_len = len(grid[0])\n",
    "        \n",
    "        self.set_cartesian_coords()\n",
    "        self.set_edge_coords()\n",
    "        self.set_block_coords()\n",
    "        \n",
    "    def set_edge_coords(self):\n",
    "        self.edge_coords = []\n",
    "        edge_v = [self.row_len - 1, self.col_len -1, 0]\n",
    "        for c in self.coords:\n",
    "            if c[0] in edge_v or c[1] in edge_v and not self.access(*c):\n",
    "                self.edge_coords.append(c)\n",
    "                \n",
    "    def set_block_coords(self, val=3):\n",
    "        self.block_coords = []\n",
    "        for c in self.coords:\n",
    "            if self.access(*c)==val:\n",
    "                self.block_coords.append(c)\n",
    "\n",
    "    def set_cartesian_coords(self):\n",
    "        self.coords = []\n",
    "        for r in range(self.row_len):\n",
    "            for c in range(self.col_len):\n",
    "                self.coords.append((r, c))\n",
    "    \n",
    "    def show_cart_coords(self):\n",
    "        for r in range(self.row_len):\n",
    "            for c in range(self.col_len):\n",
    "                print(\"({}, {}) \".format(r, c), end=\"\")\n",
    "            print(\"\\n\")\n",
    "            \n",
    "    def get_dir_coord(self, coord, dir_):\n",
    "        x, y = coord\n",
    "        \n",
    "        blocked = False\n",
    "        if dir_=='N':\n",
    "            x, blocked = (x - 1, blocked) if x > 0 else (x, True)\n",
    "        elif dir_=='E':\n",
    "            y, blocked = (y + 1, blocked) if y < self.col_len -1 else (y, True)\n",
    "        elif dir_=='S':\n",
    "            x, blocked = (x + 1, blocked) if x < self.row_len -1 else (x, True)\n",
    "        elif dir_=='W':\n",
    "            y, blocked = (y - 1, blocked) if y > 0 else (y, True)\n",
    "        \n",
    "        return (x, y), blocked\n",
    "    \n",
    "    def show(self):\n",
    "        plot_grid(self.grid)\n",
    "        \n",
    "    def as_string(self):\n",
    "        str_grid = \"\"\n",
    "        for row in self.grid:\n",
    "            for n in row:\n",
    "                str_grid += \"{} \".format(n)\n",
    "            str_grid += \"\\n\"\n",
    "        return str_grid\n",
    "    \n",
    "    def access(self, i, j):\n",
    "        return self.grid[i][j]\n",
    "    \n",
    "    def modify(self, i, j, val):\n",
    "        self.grid[i][j] = val\n",
    "    \n",
    "    def __str__(self):\n",
    "        return self.as_string()\n",
    "    \n",
    "    def __repr__(self):\n",
    "        return self.as_string()\n"
   ]
  },
  {
   "cell_type": "code",
   "execution_count": 49,
   "metadata": {
    "ExecuteTime": {
     "end_time": "2020-03-08T09:55:23.700946Z",
     "start_time": "2020-03-08T09:55:23.679309Z"
    },
    "code_folding": [
     0,
     49
    ],
    "run_control": {
     "marked": true
    }
   },
   "outputs": [],
   "source": [
    "def potential_grids(gi):\n",
    "    p_grid = \"\"\n",
    "    vgi = deepcopy(gi)\n",
    "    for coord in vgi.coords:\n",
    "\n",
    "        vals = []\n",
    "        for dir_ in ['N', 'E', 'S', 'W']:\n",
    "            coord_, blocked = vgi.get_dir_coord(coord, dir_)\n",
    "            val = vgi.access(*coord_)\n",
    "            vals.append(val)\n",
    "\n",
    "        if vgi.access(*coord):\n",
    "            p_grid += \"{} \".format(val)\n",
    "        elif len(np.nonzero(vals)[0]) == 4:\n",
    "            p_grid += \"x \"\n",
    "            vgi.grid[coord[0]][coord[1]] = 4\n",
    "        elif len(np.nonzero(vals)[0]) >= 2:\n",
    "            p_grid += \"p \"\n",
    "            vgi.grid[coord[0]][coord[1]] = 1\n",
    "        elif len(np.nonzero(vals)[0]) < 2:\n",
    "            p_grid += \"_ \"\n",
    "    vgi.show()\n",
    "    return vgi\n",
    "\n",
    "def potential_grids_2(gi):\n",
    "    vgi = deepcopy(gi)\n",
    "    p_stack = []\n",
    "    c_stack = []\n",
    "    for coord in gi.coords:\n",
    "        vals = []\n",
    "        for dir_ in ['N', 'E', 'S', 'W']:\n",
    "            coord_, blocked = gi.get_dir_coord(coord, dir_)\n",
    "            val = gi.access(*coord_)\n",
    "            vals.append(val)\n",
    "\n",
    "        if gi.access(*coord):\n",
    "            continue\n",
    "        elif len(np.nonzero(vals)[0]) == 4:\n",
    "            vgi.grid[coord[0]][coord[1]] = 4\n",
    "            c_stack.append(coord)\n",
    "            vgi.block_coords.append(coord)\n",
    "        elif len(np.nonzero(vals)[0]) >= 2:\n",
    "            vgi.grid[coord[0]][coord[1]] = 1\n",
    "            p_stack.append(coord)\n",
    "        \n",
    "    vgi.show()\n",
    "    print(\"potential spots : \", len(p_stack))\n",
    "    print(\"confirmed spots : \", len(c_stack))\n",
    "    return vgi, p_stack, c_stack\n",
    "\n",
    "def finalize_grids(gi):\n",
    "    vgi = deepcopy(gi)\n",
    "    change = False\n",
    "    for coord in vgi.coords:\n",
    "        if vgi.access(*coord)==4:\n",
    "            for dir_ in ['N', 'E', 'S', 'W']:\n",
    "                coord_, blocked = vgi.get_dir_coord(coord, dir_)\n",
    "                if vgi.access(*coord_)==1:\n",
    "                    vgi.grid[coord_[0]][coord_[1]] = 4\n",
    "                    \n",
    "                    change = True\n",
    "    if change:\n",
    "        vgi = finalize_grids(vgi)\n",
    "    else:\n",
    "        ## clean up\n",
    "        for coord in vgi.coords:\n",
    "            if vgi.access(*coord)==1:\n",
    "                vgi.grid[coord[0]][coord[1]] = 0\n",
    "        vgi.show()\n",
    "    \n",
    "    return vgi"
   ]
  },
  {
   "cell_type": "code",
   "execution_count": 50,
   "metadata": {
    "ExecuteTime": {
     "end_time": "2020-03-08T09:55:27.100376Z",
     "start_time": "2020-03-08T09:55:24.897886Z"
    }
   },
   "outputs": [],
   "source": [
    "sample_task = read_json('./tasks/00d62c1b.json')\n",
    "# plot_task(sample_task)"
   ]
  },
  {
   "cell_type": "code",
   "execution_count": 51,
   "metadata": {
    "ExecuteTime": {
     "end_time": "2020-03-08T09:55:28.199217Z",
     "start_time": "2020-03-08T09:55:27.103837Z"
    }
   },
   "outputs": [
    {
     "name": "stdout",
     "output_type": "stream",
     "text": [
      "len of train task :  5\n",
      "len of test task :  1\n",
      "same io shape :  True\n"
     ]
    }
   ],
   "source": [
    "task_summary(sample_task)"
   ]
  },
  {
   "cell_type": "code",
   "execution_count": 52,
   "metadata": {
    "ExecuteTime": {
     "end_time": "2020-03-08T09:55:29.299571Z",
     "start_time": "2020-03-08T09:55:28.203725Z"
    }
   },
   "outputs": [],
   "source": [
    "# ind = 1\n",
    "\n",
    "# i = sample_task['train'][ind][\"input\"]\n",
    "# o = sample_task['train'][ind][\"output\"]\n",
    "\n",
    "# plot_pair(i, o)\n",
    "\n",
    "\n",
    "# gi = Grid(i)\n",
    "# gi.show()\n",
    "# vgi = potential_grids(gi)\n",
    "# output = finalize_grids(vgi)\n",
    "# plot_grid(o)\n",
    "\n",
    "# output.grid == o"
   ]
  },
  {
   "cell_type": "code",
   "execution_count": 53,
   "metadata": {
    "ExecuteTime": {
     "end_time": "2020-03-08T09:55:30.653836Z",
     "start_time": "2020-03-08T09:55:29.301776Z"
    }
   },
   "outputs": [],
   "source": [
    "## find gvgirid with 2 neighbours\n",
    "## travel from that gr"
   ]
  },
  {
   "cell_type": "code",
   "execution_count": 59,
   "metadata": {
    "ExecuteTime": {
     "end_time": "2020-03-08T09:55:56.456630Z",
     "start_time": "2020-03-08T09:55:55.733278Z"
    }
   },
   "outputs": [
    {
     "name": "stdout",
     "output_type": "stream",
     "text": [
      "potential spots :  19\n",
      "confirmed spots :  1\n"
     ]
    },
    {
     "data": {
      "image/png": "[encoded data removed]",
      "text/plain": [
       "<Figure size 432x288 with 2 Axes>"
      ]
     },
     "metadata": {
      "needs_background": "light"
     },
     "output_type": "display_data"
    },
    {
     "data": {
      "image/png": "[encoded data removed]",
      "text/plain": [
       "<Figure size 432x288 with 1 Axes>"
      ]
     },
     "metadata": {
      "needs_background": "light"
     },
     "output_type": "display_data"
    },
    {
     "data": {
      "image/png": "[encoded data removed]",
      "text/plain": [
       "<Figure size 432x288 with 1 Axes>"
      ]
     },
     "metadata": {
      "needs_background": "light"
     },
     "output_type": "display_data"
    }
   ],
   "source": [
    "ind = 2\n",
    "\n",
    "i = sample_task['train'][ind][\"input\"]\n",
    "o = sample_task['train'][ind][\"output\"]\n",
    "\n",
    "plot_pair(i, o)\n",
    "\n",
    "\n",
    "gi = Grid(i)\n",
    "gi.show()\n",
    "vgi, p_stack, c_stack = potential_grids_2(gi)"
   ]
  },
  {
   "cell_type": "code",
   "execution_count": 64,
   "metadata": {
    "ExecuteTime": {
     "end_time": "2020-03-08T14:10:18.035046Z",
     "start_time": "2020-03-08T14:10:18.009697Z"
    }
   },
   "outputs": [
    {
     "name": "stdout",
     "output_type": "stream",
     "text": [
      "(0, 0) (0, 1) (0, 2) (0, 3) (0, 4) (0, 5) (0, 6) (0, 7) (0, 8) (0, 9) \n",
      "\n",
      "(1, 0) (1, 1) (1, 2) (1, 3) (1, 4) (1, 5) (1, 6) (1, 7) (1, 8) (1, 9) \n",
      "\n",
      "(2, 0) (2, 1) (2, 2) (2, 3) (2, 4) (2, 5) (2, 6) (2, 7) (2, 8) (2, 9) \n",
      "\n",
      "(3, 0) (3, 1) (3, 2) (3, 3) (3, 4) (3, 5) (3, 6) (3, 7) (3, 8) (3, 9) \n",
      "\n",
      "(4, 0) (4, 1) (4, 2) (4, 3) (4, 4) (4, 5) (4, 6) (4, 7) (4, 8) (4, 9) \n",
      "\n",
      "(5, 0) (5, 1) (5, 2) (5, 3) (5, 4) (5, 5) (5, 6) (5, 7) (5, 8) (5, 9) \n",
      "\n",
      "(6, 0) (6, 1) (6, 2) (6, 3) (6, 4) (6, 5) (6, 6) (6, 7) (6, 8) (6, 9) \n",
      "\n",
      "(7, 0) (7, 1) (7, 2) (7, 3) (7, 4) (7, 5) (7, 6) (7, 7) (7, 8) (7, 9) \n",
      "\n",
      "(8, 0) (8, 1) (8, 2) (8, 3) (8, 4) (8, 5) (8, 6) (8, 7) (8, 8) (8, 9) \n",
      "\n",
      "(9, 0) (9, 1) (9, 2) (9, 3) (9, 4) (9, 5) (9, 6) (9, 7) (9, 8) (9, 9) \n",
      "\n"
     ]
    }
   ],
   "source": [
    "gi.show_cart_coords()"
   ]
  },
  {
   "cell_type": "code",
   "execution_count": 60,
   "metadata": {
    "ExecuteTime": {
     "end_time": "2020-03-08T09:55:59.624179Z",
     "start_time": "2020-03-08T09:55:58.400706Z"
    }
   },
   "outputs": [
    {
     "data": {
      "text/plain": [
       "19"
      ]
     },
     "execution_count": 60,
     "metadata": {},
     "output_type": "execute_result"
    }
   ],
   "source": [
    "len(p_stack)"
   ]
  },
  {
   "cell_type": "code",
   "execution_count": 61,
   "metadata": {
    "ExecuteTime": {
     "end_time": "2020-03-08T09:56:00.867059Z",
     "start_time": "2020-03-08T09:55:59.627320Z"
    }
   },
   "outputs": [
    {
     "data": {
      "text/plain": [
       "22"
      ]
     },
     "execution_count": 61,
     "metadata": {},
     "output_type": "execute_result"
    }
   ],
   "source": [
    "len(gi.block_coords)"
   ]
  },
  {
   "cell_type": "code",
   "execution_count": 62,
   "metadata": {
    "ExecuteTime": {
     "end_time": "2020-03-08T09:56:02.010044Z",
     "start_time": "2020-03-08T09:56:01.287590Z"
    },
    "code_folding": [],
    "run_control": {
     "marked": true
    }
   },
   "outputs": [],
   "source": [
    "def modify_bulk(coords, gi, val):\n",
    "    for c in coords:\n",
    "        gi.modify(*c, val)\n",
    "\n",
    "def finalize_grids(gi, p):\n",
    "    visited = []\n",
    "    visited.append(p)\n",
    "    \n",
    "    stop = False\n",
    "    while not stop:\n",
    "        print(p)\n",
    "        new_coords = []\n",
    "        for dir_ in ['N', 'E', 'S', 'W']:\n",
    "            new_coord, _ = gi.get_dir_coord(p, dir_)\n",
    "            new_coords.append(new_coord)\n",
    "            if new_coord not in gi.block_coords:\n",
    "                visited.append(new_coord)\n",
    "        \n",
    "        for new_coord in new_coords:\n",
    "            if new_coord in gi.edge_coords:\n",
    "                stop = True\n",
    "                modify_bulk(visited, gi, 0)\n",
    "            else:\n",
    "                p = new_coord\n",
    "    gi.show()\n",
    "    return gi"
   ]
  },
  {
   "cell_type": "code",
   "execution_count": 63,
   "metadata": {
    "ExecuteTime": {
     "end_time": "2020-03-08T09:56:09.239146Z",
     "start_time": "2020-03-08T09:56:02.671586Z"
    }
   },
   "outputs": [
    {
     "name": "stdout",
     "output_type": "stream",
     "text": [
      "(0, 4)\n",
      "(1, 5)\n",
      "(2, 0)\n",
      "(2, 3)\n",
      "(2, 2)\n",
      "(2, 1)\n",
      "(2, 6)\n",
      "(2, 5)\n",
      "(2, 4)\n",
      "(2, 3)\n",
      "(2, 2)\n",
      "(2, 1)\n",
      "(2, 8)\n",
      "(3, 1)\n",
      "(3, 0)\n",
      "(3, 2)\n",
      "(3, 1)\n",
      "(3, 0)\n",
      "(3, 4)\n",
      "(3, 3)\n",
      "(3, 2)\n",
      "(3, 1)\n",
      "(3, 0)\n",
      "(3, 5)\n",
      "(3, 4)\n",
      "(3, 3)\n",
      "(3, 2)\n",
      "(3, 1)\n",
      "(3, 0)\n",
      "(4, 8)\n",
      "(5, 7)\n",
      "(5, 6)\n",
      "(5, 5)\n",
      "(5, 4)\n",
      "(5, 3)\n",
      "(5, 2)\n",
      "(5, 1)\n",
      "(6, 4)\n",
      "(6, 3)\n",
      "(6, 2)\n",
      "(6, 1)\n",
      "(6, 5)\n",
      "(6, 4)\n",
      "(6, 3)\n",
      "(6, 2)\n",
      "(6, 1)\n",
      "(6, 7)\n",
      "(6, 6)\n",
      "(6, 5)\n",
      "(6, 4)\n",
      "(6, 3)\n",
      "(6, 2)\n",
      "(6, 1)\n",
      "(7, 3)\n",
      "(7, 2)\n",
      "(7, 1)\n",
      "(7, 6)\n",
      "(7, 5)\n",
      "(7, 4)\n",
      "(7, 3)\n",
      "(7, 2)\n",
      "(7, 1)\n",
      "(7, 8)\n",
      "(8, 7)\n"
     ]
    },
    {
     "data": {
      "image/png": "[encoded data removed]",
      "text/plain": [
       "<Figure size 432x288 with 1 Axes>"
      ]
     },
     "metadata": {
      "needs_background": "light"
     },
     "output_type": "display_data"
    },
    {
     "data": {
      "image/png": "[encoded data removed]",
      "text/plain": [
       "<Figure size 432x288 with 1 Axes>"
      ]
     },
     "metadata": {
      "needs_background": "light"
     },
     "output_type": "display_data"
    },
    {
     "data": {
      "image/png": "[encoded data removed]",
      "text/plain": [
       "<Figure size 432x288 with 1 Axes>"
      ]
     },
     "metadata": {
      "needs_background": "light"
     },
     "output_type": "display_data"
    },
    {
     "data": {
      "image/png": "[encoded data removed]",
      "text/plain": [
       "<Figure size 432x288 with 1 Axes>"
      ]
     },
     "metadata": {
      "needs_background": "light"
     },
     "output_type": "display_data"
    },
    {
     "data": {
      "image/png": "[encoded data removed]",
      "text/plain": [
       "<Figure size 432x288 with 1 Axes>"
      ]
     },
     "metadata": {
      "needs_background": "light"
     },
     "output_type": "display_data"
    },
    {
     "data": {
      "image/png": "[encoded data removed]",
      "text/plain": [
       "<Figure size 432x288 with 1 Axes>"
      ]
     },
     "metadata": {
      "needs_background": "light"
     },
     "output_type": "display_data"
    },
    {
     "data": {
      "image/png": "[encoded data removed]",
      "text/plain": [
       "<Figure size 432x288 with 1 Axes>"
      ]
     },
     "metadata": {
      "needs_background": "light"
     },
     "output_type": "display_data"
    },
    {
     "data": {
      "image/png": "[encoded data removed]",
      "text/plain": [
       "<Figure size 432x288 with 1 Axes>"
      ]
     },
     "metadata": {
      "needs_background": "light"
     },
     "output_type": "display_data"
    },
    {
     "data": {
      "image/png": "[encoded data removed]",
      "text/plain": [
       "<Figure size 432x288 with 1 Axes>"
      ]
     },
     "metadata": {
      "needs_background": "light"
     },
     "output_type": "display_data"
    },
    {
     "data": {
      "image/png": "[encoded data removed]",
      "text/plain": [
       "<Figure size 432x288 with 1 Axes>"
      ]
     },
     "metadata": {
      "needs_background": "light"
     },
     "output_type": "display_data"
    },
    {
     "data": {
      "image/png": "[encoded data removed]",
      "text/plain": [
       "<Figure size 432x288 with 1 Axes>"
      ]
     },
     "metadata": {
      "needs_background": "light"
     },
     "output_type": "display_data"
    },
    {
     "data": {
      "image/png": "[encoded data removed]",
      "text/plain": [
       "<Figure size 432x288 with 1 Axes>"
      ]
     },
     "metadata": {
      "needs_background": "light"
     },
     "output_type": "display_data"
    },
    {
     "data": {
      "image/png": "[encoded data removed]",
      "text/plain": [
       "<Figure size 432x288 with 1 Axes>"
      ]
     },
     "metadata": {
      "needs_background": "light"
     },
     "output_type": "display_data"
    },
    {
     "data": {
      "image/png": "[encoded data removed]",
      "text/plain": [
       "<Figure size 432x288 with 1 Axes>"
      ]
     },
     "metadata": {
      "needs_background": "light"
     },
     "output_type": "display_data"
    },
    {
     "data": {
      "image/png": "[encoded data removed]",
      "text/plain": [
       "<Figure size 432x288 with 1 Axes>"
      ]
     },
     "metadata": {
      "needs_background": "light"
     },
     "output_type": "display_data"
    },
    {
     "data": {
      "image/png": "[encoded data removed]",
      "text/plain": [
       "<Figure size 432x288 with 1 Axes>"
      ]
     },
     "metadata": {
      "needs_background": "light"
     },
     "output_type": "display_data"
    },
    {
     "data": {
      "image/png": "[encoded data removed]",
      "text/plain": [
       "<Figure size 432x288 with 1 Axes>"
      ]
     },
     "metadata": {
      "needs_background": "light"
     },
     "output_type": "display_data"
    },
    {
     "data": {
      "image/png": "[encoded data removed]",
      "text/plain": [
       "<Figure size 432x288 with 1 Axes>"
      ]
     },
     "metadata": {
      "needs_background": "light"
     },
     "output_type": "display_data"
    },
    {
     "data": {
      "image/png": "[encoded data removed]",
      "text/plain": [
       "<Figure size 432x288 with 1 Axes>"
      ]
     },
     "metadata": {
      "needs_background": "light"
     },
     "output_type": "display_data"
    }
   ],
   "source": [
    "for p in p_stack:\n",
    "    gi = finalize_grids(vgi, p)"
   ]
  },
  {
   "cell_type": "code",
   "execution_count": 38,
   "metadata": {
    "ExecuteTime": {
     "end_time": "2020-03-08T09:53:05.925373Z",
     "start_time": "2020-03-08T09:53:05.716495Z"
    }
   },
   "outputs": [
    {
     "data": {
      "image/png": "[encoded data removed]",
      "text/plain": [
       "<Figure size 432x288 with 1 Axes>"
      ]
     },
     "metadata": {
      "needs_background": "light"
     },
     "output_type": "display_data"
    }
   ],
   "source": [
    "gi.show()"
   ]
  },
  {
   "cell_type": "code",
   "execution_count": 14,
   "metadata": {
    "ExecuteTime": {
     "end_time": "2020-03-08T09:37:13.405013Z",
     "start_time": "2020-03-08T09:37:11.348974Z"
    }
   },
   "outputs": [],
   "source": [
    "# finalize_grids(vgi, p_stack)"
   ]
  },
  {
   "cell_type": "code",
   "execution_count": null,
   "metadata": {
    "ExecuteTime": {
     "end_time": "2020-03-08T08:49:39.899246Z",
     "start_time": "2020-03-08T08:49:39.891509Z"
    }
   },
   "outputs": [],
   "source": []
  },
  {
   "cell_type": "code",
   "execution_count": 15,
   "metadata": {
    "ExecuteTime": {
     "end_time": "2020-03-08T09:37:16.580478Z",
     "start_time": "2020-03-08T09:37:16.574612Z"
    }
   },
   "outputs": [
    {
     "data": {
      "text/plain": [
       "[[0, 0, 0, 0, 0, 0],\n",
       " [0, 0, 3, 0, 0, 0],\n",
       " [0, 3, 0, 3, 0, 0],\n",
       " [0, 0, 3, 0, 3, 0],\n",
       " [0, 0, 0, 3, 0, 0],\n",
       " [0, 0, 0, 0, 0, 0]]"
      ]
     },
     "execution_count": 15,
     "metadata": {},
     "output_type": "execute_result"
    }
   ],
   "source": [
    "gi.grid"
   ]
  },
  {
   "cell_type": "code",
   "execution_count": null,
   "metadata": {},
   "outputs": [],
   "source": []
  }
 ],
 "metadata": {
  "kernelspec": {
   "display_name": "Python3.6",
   "language": "python",
   "name": "python3.6"
  },
  "language_info": {
   "codemirror_mode": {
    "name": "ipython",
    "version": 3
   },
   "file_extension": ".py",
   "mimetype": "text/x-python",
   "name": "python",
   "nbconvert_exporter": "python",
   "pygments_lexer": "ipython3",
   "version": "3.6.0"
  }
 },
 "nbformat": 4,
 "nbformat_minor": 2
}
