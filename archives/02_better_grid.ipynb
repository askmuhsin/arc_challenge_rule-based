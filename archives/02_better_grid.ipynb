{
 "cells": [
  {
   "cell_type": "code",
   "execution_count": 2,
   "metadata": {
    "ExecuteTime": {
     "end_time": "2020-03-08T13:54:12.706479Z",
     "start_time": "2020-03-08T13:54:12.699440Z"
    }
   },
   "outputs": [],
   "source": [
    "import numpy as np\n",
    "import pandas as pd\n",
    "from copy import copy, deepcopy\n",
    "\n",
    "import os\n",
    "import json\n",
    "from pathlib import Path\n",
    "\n",
    "import matplotlib.pyplot as plt\n",
    "from matplotlib import colors\n",
    "import numpy as np"
   ]
  },
  {
   "cell_type": "code",
   "execution_count": 3,
   "metadata": {
    "ExecuteTime": {
     "end_time": "2020-03-08T13:54:13.464690Z",
     "start_time": "2020-03-08T13:54:13.343429Z"
    }
   },
   "outputs": [],
   "source": [
    "from ds_toolkit.file_io.json_utils import read_json"
   ]
  },
  {
   "cell_type": "code",
   "execution_count": 120,
   "metadata": {
    "ExecuteTime": {
     "end_time": "2020-03-08T17:39:48.007749Z",
     "start_time": "2020-03-08T17:39:47.967542Z"
    },
    "code_folding": [
     0,
     15,
     24,
     32,
     40,
     53,
     63,
     66,
     74,
     78,
     82,
     85,
     88,
     91
    ],
    "run_control": {
     "marked": true
    }
   },
   "outputs": [],
   "source": [
    "def plot_grid_util(ax, grid):\n",
    "    cmap = colors.ListedColormap([\n",
    "        '#000000', '#0074D9','#FF4136','#2ECC40','#FFDC00',\n",
    "        '#AAAAAA', '#F012BE', '#FF851B', '#7FDBFF', '#870C25'\n",
    "    ])\n",
    "    norm = colors.Normalize(vmin=0, vmax=9)\n",
    "    ax.imshow(grid, cmap=cmap, norm=norm)\n",
    "    ax.grid(True, which='both',color='lightgrey', linewidth=0.5)   \n",
    "\n",
    "    ax.set_yticks([x-0.5 for x in range(1+len(grid))])\n",
    "    ax.set_xticks([x-0.5 for x in range(1+len(grid[0]))])     \n",
    "    ax.set_xticklabels([])\n",
    "    ax.set_yticklabels([])\n",
    "    \n",
    "    \n",
    "def plot_grid(grid):\n",
    "    fig, ax = plt.subplots()\n",
    "    plot_grid_util(ax, grid)\n",
    "\n",
    "###########################################################\n",
    "## ^^ utils | vv Grid Class\n",
    "###########################################################\n",
    "\n",
    "class Grid:\n",
    "    def __init__(self, grid):\n",
    "        assert isinstance(grid, list), \"grid should be list of list\"\n",
    "        assert isinstance(grid[0], list), \"grid should be list of list\"\n",
    "        \n",
    "        self.grid = grid\n",
    "        self.R = len(grid)\n",
    "        self.C = len(grid[0])\n",
    "        \n",
    "        self.direction_arithematic = {\n",
    "            'N': [-1, 0],\n",
    "            'E': [0, 1],\n",
    "            'S': [1, 0],\n",
    "            'W': [0, -1],\n",
    "        }\n",
    "        \n",
    "    \n",
    "    def return_possible_grids(self, i, j, blocks=False):\n",
    "        possible_grids = []\n",
    "        for _, op in self.direction_arithematic.items():\n",
    "            ni, nj = i + op[0], j + op[1]\n",
    "            if (0 <= ni < self.R) and (0 <= nj < self.C):\n",
    "                if not blocks:\n",
    "                    possible_grids.append((ni, nj))\n",
    "                else:\n",
    "                    if self.is_empty(ni, nj):\n",
    "                        possible_grids.append((ni, nj))\n",
    "                        \n",
    "        return possible_grids\n",
    "    \n",
    "    def show_cart_coords(self, with_val=False):\n",
    "        for r in range(self.R):\n",
    "            for c in range(self.C):\n",
    "                if not with_val:\n",
    "                    print(\"|{} {}| \".format(r, c), end=\"\")\n",
    "                else:\n",
    "                    val = gi.access(r, c)\n",
    "                    print(\"|{} {} ({})| \".format(r, c, val), end=\"\")\n",
    "            print(\"\\n\")\n",
    "    \n",
    "    def show(self):\n",
    "        plot_grid(self.grid)\n",
    "        \n",
    "    def as_string(self):\n",
    "        str_grid = \"\"\n",
    "        for row in self.grid:\n",
    "            for n in row:\n",
    "                str_grid += \"{} \".format(n)\n",
    "            str_grid += \"\\n\"\n",
    "        return str_grid\n",
    "    \n",
    "    def is_edge(self, i, j):\n",
    "        edge_v = [self.R - 1, self.C - 1, 0]\n",
    "        return i in edge_v and j in edge_v\n",
    "        \n",
    "    def is_empty(self, i, j):\n",
    "        val = self.access(i, j)\n",
    "        return not val\n",
    "    \n",
    "    def access(self, i, j):\n",
    "        return self.grid[i][j]\n",
    "    \n",
    "    def modify(self, i, j, val):\n",
    "        self.grid[i][j] = val\n",
    "    \n",
    "    def __str__(self):\n",
    "        return self.as_string()\n",
    "    \n",
    "    def __repr__(self):\n",
    "        return self.as_string()\n"
   ]
  },
  {
   "cell_type": "code",
   "execution_count": 177,
   "metadata": {
    "ExecuteTime": {
     "end_time": "2020-03-08T18:03:07.319544Z",
     "start_time": "2020-03-08T18:03:07.314896Z"
    }
   },
   "outputs": [],
   "source": [
    "# gi.show_cart_coords(with_val=True)"
   ]
  },
  {
   "cell_type": "code",
   "execution_count": 205,
   "metadata": {
    "ExecuteTime": {
     "end_time": "2020-03-08T18:07:14.566061Z",
     "start_time": "2020-03-08T18:07:14.539411Z"
    },
    "code_folding": [
     0,
     16,
     19,
     22,
     38,
     45,
     49
    ],
    "run_control": {
     "marked": false
    }
   },
   "outputs": [],
   "source": [
    "def generate_candidates(start):\n",
    "    visited = []\n",
    "    queue = []\n",
    "\n",
    "    visited.append(start)\n",
    "    queue.append(start)\n",
    "    while queue:\n",
    "        s = queue.pop(0)\n",
    "        grids = gi.return_possible_grids(*s, blocks=True)\n",
    "\n",
    "        for grid in grids:\n",
    "            if grid not in visited:\n",
    "                visited.append(grid)\n",
    "                queue.append(grid)\n",
    "    return visited\n",
    "\n",
    "def has_edge_neighbour(coord):\n",
    "    return any([gi.is_edge(*x) for x in gi.return_possible_grids(*coord, blocks=True)])\n",
    "\n",
    "def validate_candidates(candidates):\n",
    "    return all([not has_edge_neighbour(x) for x in candidates])\n",
    "\n",
    "def generate_potential_start_points(gi):\n",
    "    p_stack = []\n",
    "    for r in range(gi.R):\n",
    "        for c in range(gi.C):\n",
    "            if gi.access(r, c):\n",
    "                continue\n",
    "            \n",
    "            vals = []\n",
    "            for neighbours in gi.return_possible_grids(r, c):\n",
    "                val = gi.access(*neighbours)\n",
    "                vals.append(val)\n",
    "            \n",
    "            if len(np.nonzero(vals)[0]) >= 2:\n",
    "                p_stack.append((r, c))\n",
    "    return p_stack\n",
    "\n",
    "def mark_potential_points(gi, start_points):\n",
    "    vgi = deepcopy(gi)\n",
    "    for point in start_points:\n",
    "        vgi.modify(*point, 1)\n",
    "    vgi.show()\n",
    "    return vgi\n",
    "\n",
    "def mark_real_points(gi, real_points):\n",
    "    for point in real_points:\n",
    "        gi.modify(*point, 4)\n",
    "        \n",
    "def grid_walk(start_points):\n",
    "    for start_point in start_points:\n",
    "        candidates = generate_candidates(start_point)\n",
    "        validated = validate_candidates(candidates)\n",
    "\n",
    "        if validated:\n",
    "            mark_real_points(gi, candidates)\n",
    "    gi.show()"
   ]
  },
  {
   "cell_type": "code",
   "execution_count": 212,
   "metadata": {
    "ExecuteTime": {
     "end_time": "2020-03-08T18:09:42.517624Z",
     "start_time": "2020-03-08T18:09:42.164756Z"
    }
   },
   "outputs": [
    {
     "data": {
      "image/png": "[encoded data removed]",
      "text/plain": [
       "<Figure size 432x288 with 1 Axes>"
      ]
     },
     "metadata": {
      "needs_background": "light"
     },
     "output_type": "display_data"
    },
    {
     "data": {
      "image/png": "[encoded data removed]",
      "text/plain": [
       "<Figure size 432x288 with 1 Axes>"
      ]
     },
     "metadata": {
      "needs_background": "light"
     },
     "output_type": "display_data"
    }
   ],
   "source": [
    "sample_task = read_json('./tasks/00d62c1b.json')\n",
    "ind = 3\n",
    "i = sample_task['train'][ind][\"input\"]\n",
    "o = sample_task['train'][ind][\"output\"]\n",
    "\n",
    "gi = Grid(i)\n",
    "gi.show()\n",
    "\n",
    "go = Grid(o)\n",
    "go.show()"
   ]
  },
  {
   "cell_type": "code",
   "execution_count": 213,
   "metadata": {
    "ExecuteTime": {
     "end_time": "2020-03-08T18:09:45.493481Z",
     "start_time": "2020-03-08T18:09:43.165800Z"
    }
   },
   "outputs": [
    {
     "data": {
      "image/png": "[encoded data removed]",
      "text/plain": [
       "<Figure size 432x288 with 1 Axes>"
      ]
     },
     "metadata": {
      "needs_background": "light"
     },
     "output_type": "display_data"
    },
    {
     "data": {
      "image/png": "[encoded data removed]",
      "text/plain": [
       "<Figure size 432x288 with 1 Axes>"
      ]
     },
     "metadata": {
      "needs_background": "light"
     },
     "output_type": "display_data"
    }
   ],
   "source": [
    "start_points = generate_potential_start_points(gi)\n",
    "gi_2 = mark_potential_points(gi, start_points)\n",
    "grid_walk(start_points)"
   ]
  },
  {
   "cell_type": "code",
   "execution_count": 214,
   "metadata": {
    "ExecuteTime": {
     "end_time": "2020-03-08T18:09:50.229423Z",
     "start_time": "2020-03-08T18:09:50.221529Z"
    }
   },
   "outputs": [
    {
     "data": {
      "text/plain": [
       "True"
      ]
     },
     "execution_count": 214,
     "metadata": {},
     "output_type": "execute_result"
    }
   ],
   "source": [
    "gi.grid == go.grid"
   ]
  },
  {
   "cell_type": "code",
   "execution_count": 215,
   "metadata": {
    "ExecuteTime": {
     "end_time": "2020-03-08T18:09:52.124758Z",
     "start_time": "2020-03-08T18:09:51.271404Z"
    }
   },
   "outputs": [
    {
     "data": {
      "image/png": "[encoded data removed]",
      "text/plain": [
       "<Figure size 432x288 with 1 Axes>"
      ]
     },
     "metadata": {
      "needs_background": "light"
     },
     "output_type": "display_data"
    },
    {
     "data": {
      "image/png": "[encoded data removed]",
      "text/plain": [
       "<Figure size 432x288 with 1 Axes>"
      ]
     },
     "metadata": {
      "needs_background": "light"
     },
     "output_type": "display_data"
    }
   ],
   "source": [
    "sample_task = read_json('./tasks/00d62c1b.json')\n",
    "ind = 0\n",
    "i = sample_task['test'][ind][\"input\"]\n",
    "o = sample_task['test'][ind][\"output\"]\n",
    "gi = Grid(i)\n",
    "gi.show()\n",
    "\n",
    "go = Grid(o)\n",
    "go.show()"
   ]
  },
  {
   "cell_type": "code",
   "execution_count": 216,
   "metadata": {
    "ExecuteTime": {
     "end_time": "2020-03-08T18:09:53.915914Z",
     "start_time": "2020-03-08T18:09:52.834261Z"
    }
   },
   "outputs": [
    {
     "data": {
      "image/png": "[encoded data removed]",
      "text/plain": [
       "<Figure size 432x288 with 1 Axes>"
      ]
     },
     "metadata": {
      "needs_background": "light"
     },
     "output_type": "display_data"
    },
    {
     "data": {
      "image/png": "[encoded data removed]",
      "text/plain": [
       "<Figure size 432x288 with 1 Axes>"
      ]
     },
     "metadata": {
      "needs_background": "light"
     },
     "output_type": "display_data"
    }
   ],
   "source": [
    "start_points = generate_potential_start_points(gi)\n",
    "gi_2 = mark_potential_points(gi, start_points)\n",
    "grid_walk(start_points)"
   ]
  },
  {
   "cell_type": "code",
   "execution_count": 211,
   "metadata": {
    "ExecuteTime": {
     "end_time": "2020-03-08T18:09:06.912778Z",
     "start_time": "2020-03-08T18:09:06.906839Z"
    }
   },
   "outputs": [
    {
     "data": {
      "text/plain": [
       "True"
      ]
     },
     "execution_count": 211,
     "metadata": {},
     "output_type": "execute_result"
    }
   ],
   "source": [
    "gi.grid == go.grid"
   ]
  },
  {
   "cell_type": "code",
   "execution_count": null,
   "metadata": {},
   "outputs": [],
   "source": [
    "## do DFS\n",
    "## case 1 -- hit an edge \n",
    "    ## everything in the visited list becomes 0\n",
    "    ## stop\n",
    "## case 2 -- hit a block\n",
    "    ## continue DFS , check for case 1\n",
    "    "
   ]
  }
 ],
 "metadata": {
  "kernelspec": {
   "display_name": "Python3.6",
   "language": "python",
   "name": "python3.6"
  },
  "language_info": {
   "codemirror_mode": {
    "name": "ipython",
    "version": 3
   },
   "file_extension": ".py",
   "mimetype": "text/x-python",
   "name": "python",
   "nbconvert_exporter": "python",
   "pygments_lexer": "ipython3",
   "version": "3.6.0"
  }
 },
 "nbformat": 4,
 "nbformat_minor": 2
}
