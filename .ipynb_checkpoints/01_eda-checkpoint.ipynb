{
 "cells": [
  {
   "cell_type": "code",
   "execution_count": 1,
   "metadata": {
    "ExecuteTime": {
     "end_time": "2020-03-07T08:23:12.709642Z",
     "start_time": "2020-03-07T08:23:11.888533Z"
    }
   },
   "outputs": [],
   "source": [
    "import numpy as np\n",
    "import pandas as pd\n",
    "\n",
    "import os\n",
    "import json\n",
    "from pathlib import Path\n",
    "\n",
    "import matplotlib.pyplot as plt\n",
    "from matplotlib import colors\n",
    "import numpy as np"
   ]
  },
  {
   "cell_type": "code",
   "execution_count": 2,
   "metadata": {
    "ExecuteTime": {
     "end_time": "2020-03-07T08:23:13.332755Z",
     "start_time": "2020-03-07T08:23:12.713808Z"
    }
   },
   "outputs": [],
   "source": [
    "from ds_toolkit.file_io.json_utils import read_json"
   ]
  },
  {
   "cell_type": "code",
   "execution_count": 3,
   "metadata": {
    "ExecuteTime": {
     "end_time": "2020-03-07T08:23:14.523223Z",
     "start_time": "2020-03-07T08:23:13.336014Z"
    }
   },
   "outputs": [],
   "source": [
    "sample_task = read_json('./tasks/00d62c1b.json')\n",
    "# plot_task(sample_task)"
   ]
  },
  {
   "cell_type": "code",
   "execution_count": 22,
   "metadata": {
    "ExecuteTime": {
     "end_time": "2020-03-07T08:32:06.783024Z",
     "start_time": "2020-03-07T08:32:06.752545Z"
    },
    "code_folding": [
     0
    ],
    "run_control": {
     "marked": true
    }
   },
   "outputs": [],
   "source": [
    "def task_summary(task):\n",
    "    print(\"len of train task : \", len(task['train']))\n",
    "    print(\"len of test task : \", len(task['test']))\n",
    "    \n",
    "    same_io_shape = True\n",
    "    shapes = []\n",
    "    for t in task['train']:\n",
    "        input_shape, output_shape = (len(t['input']), len(t['input'][0])), (len(t['output']), len(t['output'][0]))\n",
    "        shapes.append((input_shape, output_shape))\n",
    "        if input_shape != output_shape:\n",
    "            same_io_shape = False\n",
    "    \n",
    "    print(\"same io shape : \", same_io_shape)\n",
    "    \n",
    "def plot_grid_util(ax, grid):\n",
    "    cmap = colors.ListedColormap([\n",
    "        '#000000', '#0074D9','#FF4136','#2ECC40','#FFDC00',\n",
    "        '#AAAAAA', '#F012BE', '#FF851B', '#7FDBFF', '#870C25'\n",
    "    ])\n",
    "    norm = colors.Normalize(vmin=0, vmax=9)\n",
    "    ax.imshow(grid, cmap=cmap, norm=norm)\n",
    "    ax.grid(True, which='both',color='lightgrey', linewidth=0.5)   \n",
    "\n",
    "    ax.set_yticks([x-0.5 for x in range(1+len(grid))])\n",
    "    ax.set_xticks([x-0.5 for x in range(1+len(grid[0]))])     \n",
    "    ax.set_xticklabels([])\n",
    "    ax.set_yticklabels([])\n",
    "    \n",
    "    \n",
    "def plot_grid(grid):\n",
    "    fig, ax = plt.subplots()\n",
    "    plot_grid_util(ax, grid)\n",
    "\n",
    "\n",
    "def plot_pair(i, o):\n",
    "    fig, (ax, ax2) = plt.subplots(1,2)\n",
    "    plot_grid_util(ax, i)\n",
    "    plot_grid_util(ax2, o)"
   ]
  },
  {
   "cell_type": "code",
   "execution_count": 23,
   "metadata": {
    "ExecuteTime": {
     "end_time": "2020-03-07T08:32:11.237856Z",
     "start_time": "2020-03-07T08:32:07.224542Z"
    }
   },
   "outputs": [
    {
     "name": "stdout",
     "output_type": "stream",
     "text": [
      "len of train task :  5\n",
      "len of test task :  1\n",
      "same io shape :  True\n"
     ]
    }
   ],
   "source": [
    "task_summary(sample_task)"
   ]
  },
  {
   "cell_type": "code",
   "execution_count": 24,
   "metadata": {
    "ExecuteTime": {
     "end_time": "2020-03-07T08:32:12.614472Z",
     "start_time": "2020-03-07T08:32:11.241006Z"
    }
   },
   "outputs": [],
   "source": [
    "i = sample_task['train'][0][\"input\"]"
   ]
  },
  {
   "cell_type": "code",
   "execution_count": 25,
   "metadata": {
    "ExecuteTime": {
     "end_time": "2020-03-07T08:32:14.305781Z",
     "start_time": "2020-03-07T08:32:12.617719Z"
    }
   },
   "outputs": [],
   "source": [
    "o = sample_task['train'][0][\"output\"]"
   ]
  },
  {
   "cell_type": "code",
   "execution_count": 26,
   "metadata": {
    "ExecuteTime": {
     "end_time": "2020-03-07T08:32:15.995600Z",
     "start_time": "2020-03-07T08:32:14.856866Z"
    }
   },
   "outputs": [
    {
     "data": {
      "image/png": "[encoded data removed]",
      "text/plain": [
       "<Figure size 432x288 with 1 Axes>"
      ]
     },
     "metadata": {
      "needs_background": "light"
     },
     "output_type": "display_data"
    }
   ],
   "source": [
    "plot_grid(i)"
   ]
  },
  {
   "cell_type": "code",
   "execution_count": 27,
   "metadata": {
    "ExecuteTime": {
     "end_time": "2020-03-07T08:32:17.365392Z",
     "start_time": "2020-03-07T08:32:17.194266Z"
    }
   },
   "outputs": [
    {
     "data": {
      "image/png": "[encoded data removed]",
      "text/plain": [
       "<Figure size 432x288 with 1 Axes>"
      ]
     },
     "metadata": {
      "needs_background": "light"
     },
     "output_type": "display_data"
    }
   ],
   "source": [
    "plot_grid(o)"
   ]
  },
  {
   "cell_type": "code",
   "execution_count": 29,
   "metadata": {
    "ExecuteTime": {
     "end_time": "2020-03-07T08:32:24.434962Z",
     "start_time": "2020-03-07T08:32:24.158322Z"
    }
   },
   "outputs": [
    {
     "data": {
      "image/png": "[encoded data removed]",
      "text/plain": [
       "<Figure size 432x288 with 2 Axes>"
      ]
     },
     "metadata": {
      "needs_background": "light"
     },
     "output_type": "display_data"
    }
   ],
   "source": [
    "plot_pair(i, o)"
   ]
  },
  {
   "cell_type": "code",
   "execution_count": null,
   "metadata": {},
   "outputs": [],
   "source": []
  }
 ],
 "metadata": {
  "kernelspec": {
   "display_name": "Python3.6",
   "language": "python",
   "name": "python3.6"
  },
  "language_info": {
   "codemirror_mode": {
    "name": "ipython",
    "version": 3
   },
   "file_extension": ".py",
   "mimetype": "text/x-python",
   "name": "python",
   "nbconvert_exporter": "python",
   "pygments_lexer": "ipython3",
   "version": "3.6.0"
  }
 },
 "nbformat": 4,
 "nbformat_minor": 2
}
